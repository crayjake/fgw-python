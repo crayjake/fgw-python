{
 "cells": [
  {
   "cell_type": "markdown",
   "metadata": {},
   "source": [
    "# Example usage of this fgw library"
   ]
  },
  {
   "cell_type": "code",
   "execution_count": 1,
   "metadata": {},
   "outputs": [],
   "source": [
    "from structures import *\n",
    "from generate import generate\n",
    "from schemes import CrankNicolsonDeep\n",
    "\n",
    "import numpy as np"
   ]
  },
  {
   "cell_type": "code",
   "execution_count": 6,
   "metadata": {},
   "outputs": [
    {
     "name": "stdout",
     "output_type": "stream",
     "text": [
      "Starting metadata generation\n",
      "Setting up the space\n",
      "Generating finite difference matrices\n",
      "Generating Crank-Nicolson matrices\n",
      "Deep atmosphere!\n",
      "Not using a sponge layer\n"
     ]
    }
   ],
   "source": [
    "meta = Meta(\n",
    "    js        = np.array(list(range(1, 5))),\n",
    "    width     = 100,      # 600 km\n",
    "    depth     = 50,       # 50 km\n",
    "    h         = 100,      # scale height/depth is 100 km\n",
    "    time      = 60*60*1,  # 24 hrs\n",
    "    T         = 60*30,    # 30 mins\n",
    "    sponge    = 1/4,      # fraction of width to use as sponge layer\n",
    "    damping   = 5,        # sponge damping strength\n",
    "    dt        = 60,       # timestep is 60 secs\n",
    "    saveEvery = 60        # only save every 60 States\n",
    ")"
   ]
  },
  {
   "cell_type": "code",
   "execution_count": 7,
   "metadata": {},
   "outputs": [
    {
     "name": "stderr",
     "output_type": "stream",
     "text": [
      "100%|██████████| 59/59 [00:01<00:00, 45.86it/s]\n"
     ]
    }
   ],
   "source": [
    "data = generate(meta=meta, step=CrankNicolsonDeep)"
   ]
  }
 ],
 "metadata": {
  "interpreter": {
   "hash": "37cf087adc1b1c2f09a6106570ea78eaf858af9a346191ecf52be4eb137f3495"
  },
  "kernelspec": {
   "display_name": "Python 3.8.8 ('FluidDynamics')",
   "language": "python",
   "name": "python3"
  },
  "language_info": {
   "codemirror_mode": {
    "name": "ipython",
    "version": 3
   },
   "file_extension": ".py",
   "mimetype": "text/x-python",
   "name": "python",
   "nbconvert_exporter": "python",
   "pygments_lexer": "ipython3",
   "version": "3.8.8"
  },
  "orig_nbformat": 4
 },
 "nbformat": 4,
 "nbformat_minor": 2
}
