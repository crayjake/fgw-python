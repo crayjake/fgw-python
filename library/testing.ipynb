{
 "cells": [
  {
   "cell_type": "code",
   "execution_count": 1,
   "metadata": {},
   "outputs": [
    {
     "data": {
      "text/plain": [
       "' example usage for library '"
      ]
     },
     "execution_count": 1,
     "metadata": {},
     "output_type": "execute_result"
    }
   ],
   "source": [
    "# -- library/testing.ipynb --\n",
    "# Author: Jake Cray\n",
    "# GitHub: crayjake/fgw-python\n",
    "''' example usage for library '''"
   ]
  },
  {
   "cell_type": "code",
   "execution_count": 2,
   "metadata": {},
   "outputs": [
    {
     "data": {
      "text/plain": [
       "\"\\nfrom google.colab import drive\\ndrive.mount('/content/drive')\\n\\n\\n%cd /content/drive/My Drive/fgw-python/content\\n#! git clone 'https://github.com/crayjake/fgw-python.git'\\n! git pull\\n\\nimport sys\\nsys.path.insert(0,'/content/drive/My Drive/fgw-python/content/library')\\n\""
      ]
     },
     "execution_count": 2,
     "metadata": {},
     "output_type": "execute_result"
    }
   ],
   "source": [
    "'''\n",
    "from google.colab import drive\n",
    "drive.mount('/content/drive')\n",
    "\n",
    "\n",
    "%cd /content/drive/My Drive/fgw-python/content\n",
    "#! git clone 'https://github.com/crayjake/fgw-python.git'\n",
    "! git pull\n",
    "\n",
    "import sys\n",
    "sys.path.insert(0,'/content/drive/My Drive/fgw-python/content/library')\n",
    "'''"
   ]
  },
  {
   "cell_type": "code",
   "execution_count": 3,
   "metadata": {},
   "outputs": [],
   "source": [
    "from structures import *\n",
    "from generate import generate\n",
    "from schemes import CrankNicolsonDeep, Simple\n",
    "from converters import converter\n",
    "from animate import display\n",
    "\n",
    "import numpy as np"
   ]
  },
  {
   "cell_type": "code",
   "execution_count": 4,
   "metadata": {},
   "outputs": [
    {
     "name": "stdout",
     "output_type": "stream",
     "text": [
      "Starting metadata generation\n",
      "Setting up the space\n",
      "Generating finite difference matrices\n",
      "Generating Crank-Nicolson matrices\n",
      "Deep atmosphere!\n",
      "Using a sponge layer\n",
      "DEBUG: spongeStrength: 0.023504206472195123\n",
      "DEBUG: spongeWidth:    67500.0\n",
      "DEBUG: c_max:          158.65339368731708\n",
      "Alpha: 0.0, 1.0\n"
     ]
    }
   ],
   "source": [
    "# define the metadata -> sets up our environment\n",
    "meta = Meta(\n",
    "    js        = np.array(list(range(2, 3))),\n",
    "    width     = 540,   # 540 km  ->  270km/150ms-1 = 1800s = 30min\n",
    "    depth     = 50,        # 50 km\n",
    "    h         = 100,       # scale height/depth is 100 km\n",
    "    time      = 60*60*2 ,   # 4 hrs\n",
    "    T         = 60*5,     # 30 mins\n",
    "    sponge    = 1 * 1 / 4,   # fraction of width to use as sponge layer\n",
    "    damping   = 1 * 10,    # sponge damping strength\n",
    "    dt        = 2,        # timestep is 60 secs\n",
    "    saveEvery = 10,          # only save every 60 States\n",
    "    spacesteps= 1500,\n",
    "    L = 10\n",
    ")"
   ]
  },
  {
   "cell_type": "code",
   "execution_count": 5,
   "metadata": {},
   "outputs": [
    {
     "name": "stderr",
     "output_type": "stream",
     "text": [
      "100%|██████████| 3599/3599 [01:02<00:00, 57.68it/s] \n"
     ]
    }
   ],
   "source": [
    "# generate the data using the CrankNicolsonDeep step\n",
    "data = generate(meta=meta, step=CrankNicolsonDeep)"
   ]
  },
  {
   "cell_type": "code",
   "execution_count": 6,
   "metadata": {},
   "outputs": [
    {
     "data": {
      "text/plain": [
       "0.0006399937347174694"
      ]
     },
     "execution_count": 6,
     "metadata": {},
     "output_type": "execute_result"
    }
   ],
   "source": [
    "display(data[90], meta, converter, maxValue=np.max(converter(data[10], meta).b), sponge=False)"
   ]
  },
  {
   "cell_type": "code",
   "execution_count": null,
   "metadata": {},
   "outputs": [],
   "source": []
  }
 ],
 "metadata": {
  "interpreter": {
   "hash": "37cf087adc1b1c2f09a6106570ea78eaf858af9a346191ecf52be4eb137f3495"
  },
  "kernelspec": {
   "display_name": "Python 3.8.8 ('FluidDynamics')",
   "language": "python",
   "name": "python3"
  },
  "language_info": {
   "codemirror_mode": {
    "name": "ipython",
    "version": 3
   },
   "file_extension": ".py",
   "mimetype": "text/x-python",
   "name": "python",
   "nbconvert_exporter": "python",
   "pygments_lexer": "ipython3",
   "version": "3.8.8"
  },
  "orig_nbformat": 4
 },
 "nbformat": 4,
 "nbformat_minor": 2
}
