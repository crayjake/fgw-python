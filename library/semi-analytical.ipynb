{
 "cells": [
  {
   "cell_type": "code",
   "execution_count": 1,
   "metadata": {},
   "outputs": [],
   "source": [
    "import numpy as np\n",
    "from matplotlib import pyplot as plt\n",
    "\n",
    "\n",
    "# width      = 1000 * 540 * 1.5 / 2\n",
    "# spacesteps = 1000\n",
    "\n",
    "# x = np.linspace(0, width, spacesteps)\n",
    "# dx = width / spacesteps"
   ]
  },
  {
   "cell_type": "code",
   "execution_count": 2,
   "metadata": {},
   "outputs": [],
   "source": [
    "from math import floor\n",
    "from tqdm import tqdm\n",
    "\n",
    "def trapezium(func, bounds, delta, display=False):\n",
    "    result = delta * (func(bounds[0]) + func(bounds[1])) / 2\n",
    "\n",
    "    steps = (bounds[1] - bounds[0]) / delta\n",
    "\n",
    "    if display:\n",
    "        for i in tqdm(range(1, floor(steps))):\n",
    "            result += delta * func(bounds[0] + (delta * i))\n",
    "\n",
    "    else:\n",
    "        for i in range(1, floor(steps)):\n",
    "            result += delta * func(bounds[0] + (delta * i))\n",
    "\n",
    "    return result\n",
    "    \n",
    "def simpson(func, bounds, delta):\n",
    "    result = delta * (func(bounds[0]) + func(bounds[1])) / 3\n",
    "\n",
    "    steps = (bounds[1] - bounds[0]) / delta\n",
    "    for i in range(1, floor(steps)):\n",
    "        add = 2 * delta * func(bounds[0] + (delta * i))\n",
    "\n",
    "        if i % 2 != 0:\n",
    "            add *= 2\n",
    "\n",
    "        result += add / 3\n",
    "\n",
    "    return result"
   ]
  },
  {
   "cell_type": "code",
   "execution_count": 3,
   "metadata": {},
   "outputs": [
    {
     "name": "stdout",
     "output_type": "stream",
     "text": [
      "333.33349999999996 vs 333.33333333333337\n"
     ]
    }
   ],
   "source": [
    "trap = trapezium(lambda x: x ** 2, (0, 10), 0.01)\n",
    "simp = simpson  (lambda x: x ** 2, (0, 10), 0.01)\n",
    "print(f'{trap} vs {simp}')"
   ]
  },
  {
   "cell_type": "code",
   "execution_count": 4,
   "metadata": {},
   "outputs": [],
   "source": [
    "from math import sqrt, pi, exp, cos, sin\n",
    "\n",
    "S = 3.6e-5\n",
    "L = 10000\n",
    "N = 0.01\n",
    "rho_s = 1\n",
    "D = 50000\n",
    "D_t = 10000\n",
    "h = 100000\n",
    "\n",
    "mode = 1\n",
    "\n",
    "# modal variables\n",
    "A_j = sqrt(2 / (rho_s * (N ** 2) * D))\n",
    "\n",
    "# wavespeed (squared)\n",
    "c2 = ((N * D) ** 2) / (((mode * pi) ** 2) + ((D ** 2)/(4 * (h ** 2)))) # wavespeed\n",
    "\n",
    "# calculating S_j = S0 * sigma\n",
    "if ((mode * D_t / D) - 1) == 0:\n",
    "    S_j = A_j * (rho_s / 2) * D_t\n",
    "else:\n",
    "    S_A = np.sin((np.pi) * ((mode * D_t / D) - 1)) / ((mode * D_t / D) - 1)\n",
    "    S_B = np.sin((np.pi) * ((mode * D_t / D) + 1)) / ((mode * D_t / D) + 1)\n",
    "    S_j = A_j * (rho_s / 2) * (D_t / np.pi) * (S_A - S_B)\n",
    "\n",
    "S_j = S_j * S\n",
    "\n",
    "\n",
    "def F(x):\n",
    "    return 1 / np.cosh(x / L) ** 2"
   ]
  },
  {
   "cell_type": "code",
   "execution_count": 5,
   "metadata": {},
   "outputs": [],
   "source": [
    "xMax = 100 * L\n",
    "dx = xMax / 1000\n",
    "\n",
    "#xMax = (1000 * 540 * 1.5 / 2)\n",
    "#dx = xMax / 1000\n",
    "    \n",
    "def FourierTransform(func, k):\n",
    "    # e^ix   = cos(x) + i*sin(x)\n",
    "    # e^-ikx = e^i(-kx) = cos(-kx) + i*sin(-kx) = cos(kx) - i*sin(kx)\n",
    "\n",
    "    real = lambda x: cos(k*x)  * func(x)\n",
    "    im   = lambda x: -sin(k*x) * func(x)\n",
    "\n",
    "    return (trapezium(real, (-xMax, xMax), dx), trapezium(im, (-xMax, xMax), dx))\n",
    "\n",
    "\n",
    "\n",
    "\n",
    "def FourierR(func, k):\n",
    "    real = lambda x: cos(k*x)  * func(x)\n",
    "\n",
    "    return trapezium(real, (-xMax, xMax), dx)\n",
    "\n",
    "def FourierI(func, k):\n",
    "    im   = lambda x: -sin(k*x) * func(x)\n",
    "\n",
    "    return trapezium(im, (-xMax, xMax), dx)\n",
    "\n",
    "def InverseFourierTransform(func, x):\n",
    "    # t = 1 if x < 1 else x\n",
    "    kMax = 30 / L\n",
    "    dk = kMax / 1000#kMax / 1000\n",
    "\n",
    "    # e^ix   = cos(x) + i*sin(x)\n",
    "    # e^ikx = e^i(kx) = cos(kx) + i*sin(kx)\n",
    "\n",
    "    # func = a + ib\n",
    "    # acos, a i sin, b i cos, b ii sin -> real: acos - bsin, im: asin + bcos\n",
    "\n",
    "    (a, b) = func\n",
    "\n",
    "    real = lambda k: (a(k) * cos(k*x)) - (b(k) * sin(k*x))\n",
    "    #im   = lambda k: (a(k) * sin(k*x)) + (b(k) * cos(k*x))\n",
    "\n",
    "    resultR = trapezium(real, (-kMax, kMax), dk, True) / (2 * pi)\n",
    "    resultI = 0#trapezium(im, (-kMax, kMax), dk, True) / (2 * pi)\n",
    "\n",
    "    return (resultR, resultI)"
   ]
  },
  {
   "cell_type": "code",
   "execution_count": 6,
   "metadata": {},
   "outputs": [
    {
     "name": "stderr",
     "output_type": "stream",
     "text": [
      "100%|██████████| 1999/1999 [00:13<00:00, 145.16it/s]\n"
     ]
    },
    {
     "name": "stdout",
     "output_type": "stream",
     "text": [
      "x=50000: 0.00018158323094380667 | 0.0001815832309438202 | -0.0%\n"
     ]
    },
    {
     "name": "stderr",
     "output_type": "stream",
     "text": [
      "100%|██████████| 1999/1999 [00:13<00:00, 145.62it/s]\n"
     ]
    },
    {
     "name": "stdout",
     "output_type": "stream",
     "text": [
      "x=100000: 8.244614455767395e-09 | 8.24461460469295e-09 | -0.0%\n"
     ]
    },
    {
     "name": "stderr",
     "output_type": "stream",
     "text": [
      "100%|██████████| 1999/1999 [00:13<00:00, 144.77it/s]\n"
     ]
    },
    {
     "name": "stdout",
     "output_type": "stream",
     "text": [
      "x=200000: 1.6993417021166355e-17 | 6.486360867172979e-16 | -3716.98%\n"
     ]
    },
    {
     "name": "stderr",
     "output_type": "stream",
     "text": [
      "100%|██████████| 1999/1999 [00:13<00:00, 144.66it/s]\n"
     ]
    },
    {
     "name": "stdout",
     "output_type": "stream",
     "text": [
      "x=300000: 3.502604305078608e-26 | 1.0167078329917665e-15 | -2902719646300.22%\n"
     ]
    },
    {
     "name": "stderr",
     "output_type": "stream",
     "text": [
      "100%|██████████| 1999/1999 [00:14<00:00, 142.37it/s]"
     ]
    },
    {
     "name": "stdout",
     "output_type": "stream",
     "text": [
      "x=405000: 2.6558708798322934e-35 | -2.1481261694951011e-16 | 8.088217638166001e+20%\n"
     ]
    },
    {
     "name": "stderr",
     "output_type": "stream",
     "text": [
      "\n"
     ]
    }
   ],
   "source": [
    "for x in [t * 1000 for t in [50, 100, 200, 300, 405]]:\n",
    "    true = F(x)\n",
    "\n",
    "    fR = lambda k: FourierR(F, k)\n",
    "    fI = lambda k: FourierI(F, k)\n",
    "\n",
    "    fourier = InverseFourierTransform((fR, fI), x)\n",
    "\n",
    "    print(f'x={x}: {true} | {fourier[0]} | {str(round(100 * (true - fourier[0]) / true, 2))}%')"
   ]
  },
  {
   "cell_type": "code",
   "execution_count": 7,
   "metadata": {},
   "outputs": [
    {
     "name": "stdout",
     "output_type": "stream",
     "text": [
      "Fourier values: (k=0)\n",
      "0.4 | 1000.0 | -249900.0%\n",
      "Inverted values: (x=0)\n"
     ]
    },
    {
     "name": "stderr",
     "output_type": "stream",
     "text": [
      "100%|██████████| 1999/1999 [00:03<00:00, 626.47it/s]\n"
     ]
    },
    {
     "name": "stdout",
     "output_type": "stream",
     "text": [
      "1.0 | (0.9549296585513906, 0) | 4.51%\n",
      "------------------------------\n",
      "Fourier values: (k=1)\n",
      "0.38461538461538464 | 1000.0 | -259900.0%\n",
      "Inverted values: (x=1)\n"
     ]
    },
    {
     "name": "stderr",
     "output_type": "stream",
     "text": [
      " 19%|█▉        | 383/1999 [00:00<00:02, 619.37it/s]\n"
     ]
    },
    {
     "ename": "KeyboardInterrupt",
     "evalue": "",
     "output_type": "error",
     "traceback": [
      "\u001b[0;31m---------------------------------------------------------------------------\u001b[0m",
      "\u001b[0;31mKeyboardInterrupt\u001b[0m                         Traceback (most recent call last)",
      "\u001b[0;32m/tmp/ipykernel_20108/2188088246.py\u001b[0m in \u001b[0;36m<module>\u001b[0;34m\u001b[0m\n\u001b[1;32m     16\u001b[0m     \u001b[0mprint\u001b[0m\u001b[0;34m(\u001b[0m\u001b[0;34mf'Inverted values: (x={k})'\u001b[0m\u001b[0;34m)\u001b[0m\u001b[0;34m\u001b[0m\u001b[0;34m\u001b[0m\u001b[0m\n\u001b[1;32m     17\u001b[0m     \u001b[0mtrue\u001b[0m     \u001b[0;34m=\u001b[0m \u001b[0mexample\u001b[0m\u001b[0;34m(\u001b[0m\u001b[0mk\u001b[0m\u001b[0;34m)\u001b[0m\u001b[0;34m\u001b[0m\u001b[0;34m\u001b[0m\u001b[0m\n\u001b[0;32m---> 18\u001b[0;31m     \u001b[0minverted\u001b[0m \u001b[0;34m=\u001b[0m \u001b[0mInverseFourierTransform\u001b[0m\u001b[0;34m(\u001b[0m\u001b[0;34m(\u001b[0m\u001b[0mtestTildeR\u001b[0m\u001b[0;34m,\u001b[0m \u001b[0mtestTildeI\u001b[0m\u001b[0;34m)\u001b[0m\u001b[0;34m,\u001b[0m \u001b[0mk\u001b[0m\u001b[0;34m)\u001b[0m\u001b[0;34m\u001b[0m\u001b[0;34m\u001b[0m\u001b[0m\n\u001b[0m\u001b[1;32m     19\u001b[0m \u001b[0;34m\u001b[0m\u001b[0m\n\u001b[1;32m     20\u001b[0m     \u001b[0mprint\u001b[0m\u001b[0;34m(\u001b[0m\u001b[0;34mf'{true} | {inverted} | {str(round(100 * (true - inverted[0]) / true, 2))}%'\u001b[0m\u001b[0;34m)\u001b[0m\u001b[0;34m\u001b[0m\u001b[0;34m\u001b[0m\u001b[0m\n",
      "\u001b[0;32m/tmp/ipykernel_20108/2247510618.py\u001b[0m in \u001b[0;36mInverseFourierTransform\u001b[0;34m(func, x)\u001b[0m\n\u001b[1;32m     43\u001b[0m     \u001b[0;31m#im   = lambda k: (a(k) * sin(k*x)) + (b(k) * cos(k*x))\u001b[0m\u001b[0;34m\u001b[0m\u001b[0;34m\u001b[0m\u001b[0;34m\u001b[0m\u001b[0m\n\u001b[1;32m     44\u001b[0m \u001b[0;34m\u001b[0m\u001b[0m\n\u001b[0;32m---> 45\u001b[0;31m     \u001b[0mresultR\u001b[0m \u001b[0;34m=\u001b[0m \u001b[0mtrapezium\u001b[0m\u001b[0;34m(\u001b[0m\u001b[0mreal\u001b[0m\u001b[0;34m,\u001b[0m \u001b[0;34m(\u001b[0m\u001b[0;34m-\u001b[0m\u001b[0mkMax\u001b[0m\u001b[0;34m,\u001b[0m \u001b[0mkMax\u001b[0m\u001b[0;34m)\u001b[0m\u001b[0;34m,\u001b[0m \u001b[0mdk\u001b[0m\u001b[0;34m,\u001b[0m \u001b[0;32mTrue\u001b[0m\u001b[0;34m)\u001b[0m \u001b[0;34m/\u001b[0m \u001b[0;34m(\u001b[0m\u001b[0;36m2\u001b[0m \u001b[0;34m*\u001b[0m \u001b[0mpi\u001b[0m\u001b[0;34m)\u001b[0m\u001b[0;34m\u001b[0m\u001b[0;34m\u001b[0m\u001b[0m\n\u001b[0m\u001b[1;32m     46\u001b[0m     \u001b[0mresultI\u001b[0m \u001b[0;34m=\u001b[0m \u001b[0;36m0\u001b[0m\u001b[0;31m#trapezium(im, (-kMax, kMax), dk, True) / (2 * pi)\u001b[0m\u001b[0;34m\u001b[0m\u001b[0;34m\u001b[0m\u001b[0m\n\u001b[1;32m     47\u001b[0m \u001b[0;34m\u001b[0m\u001b[0m\n",
      "\u001b[0;32m/tmp/ipykernel_20108/2506790557.py\u001b[0m in \u001b[0;36mtrapezium\u001b[0;34m(func, bounds, delta, display)\u001b[0m\n\u001b[1;32m      9\u001b[0m     \u001b[0;32mif\u001b[0m \u001b[0mdisplay\u001b[0m\u001b[0;34m:\u001b[0m\u001b[0;34m\u001b[0m\u001b[0;34m\u001b[0m\u001b[0m\n\u001b[1;32m     10\u001b[0m         \u001b[0;32mfor\u001b[0m \u001b[0mi\u001b[0m \u001b[0;32min\u001b[0m \u001b[0mtqdm\u001b[0m\u001b[0;34m(\u001b[0m\u001b[0mrange\u001b[0m\u001b[0;34m(\u001b[0m\u001b[0;36m1\u001b[0m\u001b[0;34m,\u001b[0m \u001b[0mfloor\u001b[0m\u001b[0;34m(\u001b[0m\u001b[0msteps\u001b[0m\u001b[0;34m)\u001b[0m\u001b[0;34m)\u001b[0m\u001b[0;34m)\u001b[0m\u001b[0;34m:\u001b[0m\u001b[0;34m\u001b[0m\u001b[0;34m\u001b[0m\u001b[0m\n\u001b[0;32m---> 11\u001b[0;31m             \u001b[0mresult\u001b[0m \u001b[0;34m+=\u001b[0m \u001b[0mdelta\u001b[0m \u001b[0;34m*\u001b[0m \u001b[0mfunc\u001b[0m\u001b[0;34m(\u001b[0m\u001b[0mbounds\u001b[0m\u001b[0;34m[\u001b[0m\u001b[0;36m0\u001b[0m\u001b[0;34m]\u001b[0m \u001b[0;34m+\u001b[0m \u001b[0;34m(\u001b[0m\u001b[0mdelta\u001b[0m \u001b[0;34m*\u001b[0m \u001b[0mi\u001b[0m\u001b[0;34m)\u001b[0m\u001b[0;34m)\u001b[0m\u001b[0;34m\u001b[0m\u001b[0;34m\u001b[0m\u001b[0m\n\u001b[0m\u001b[1;32m     12\u001b[0m \u001b[0;34m\u001b[0m\u001b[0m\n\u001b[1;32m     13\u001b[0m     \u001b[0;32melse\u001b[0m\u001b[0;34m:\u001b[0m\u001b[0;34m\u001b[0m\u001b[0;34m\u001b[0m\u001b[0m\n",
      "\u001b[0;32m/tmp/ipykernel_20108/2247510618.py\u001b[0m in \u001b[0;36m<lambda>\u001b[0;34m(k)\u001b[0m\n\u001b[1;32m     40\u001b[0m     \u001b[0;34m(\u001b[0m\u001b[0ma\u001b[0m\u001b[0;34m,\u001b[0m \u001b[0mb\u001b[0m\u001b[0;34m)\u001b[0m \u001b[0;34m=\u001b[0m \u001b[0mfunc\u001b[0m\u001b[0;34m\u001b[0m\u001b[0;34m\u001b[0m\u001b[0m\n\u001b[1;32m     41\u001b[0m \u001b[0;34m\u001b[0m\u001b[0m\n\u001b[0;32m---> 42\u001b[0;31m     \u001b[0mreal\u001b[0m \u001b[0;34m=\u001b[0m \u001b[0;32mlambda\u001b[0m \u001b[0mk\u001b[0m\u001b[0;34m:\u001b[0m \u001b[0;34m(\u001b[0m\u001b[0ma\u001b[0m\u001b[0;34m(\u001b[0m\u001b[0mk\u001b[0m\u001b[0;34m)\u001b[0m \u001b[0;34m*\u001b[0m \u001b[0mcos\u001b[0m\u001b[0;34m(\u001b[0m\u001b[0mk\u001b[0m\u001b[0;34m*\u001b[0m\u001b[0mx\u001b[0m\u001b[0;34m)\u001b[0m\u001b[0;34m)\u001b[0m \u001b[0;34m-\u001b[0m \u001b[0;34m(\u001b[0m\u001b[0mb\u001b[0m\u001b[0;34m(\u001b[0m\u001b[0mk\u001b[0m\u001b[0;34m)\u001b[0m \u001b[0;34m*\u001b[0m \u001b[0msin\u001b[0m\u001b[0;34m(\u001b[0m\u001b[0mk\u001b[0m\u001b[0;34m*\u001b[0m\u001b[0mx\u001b[0m\u001b[0;34m)\u001b[0m\u001b[0;34m)\u001b[0m\u001b[0;34m\u001b[0m\u001b[0;34m\u001b[0m\u001b[0m\n\u001b[0m\u001b[1;32m     43\u001b[0m     \u001b[0;31m#im   = lambda k: (a(k) * sin(k*x)) + (b(k) * cos(k*x))\u001b[0m\u001b[0;34m\u001b[0m\u001b[0;34m\u001b[0m\u001b[0;34m\u001b[0m\u001b[0m\n\u001b[1;32m     44\u001b[0m \u001b[0;34m\u001b[0m\u001b[0m\n",
      "\u001b[0;32m/tmp/ipykernel_20108/2188088246.py\u001b[0m in \u001b[0;36m<lambda>\u001b[0;34m(k)\u001b[0m\n\u001b[1;32m      4\u001b[0m \u001b[0;34m\u001b[0m\u001b[0m\n\u001b[1;32m      5\u001b[0m \u001b[0mtestTildeR\u001b[0m   \u001b[0;34m=\u001b[0m \u001b[0;32mlambda\u001b[0m \u001b[0mk\u001b[0m\u001b[0;34m:\u001b[0m \u001b[0mFourierR\u001b[0m\u001b[0;34m(\u001b[0m\u001b[0mexample\u001b[0m\u001b[0;34m,\u001b[0m \u001b[0mk\u001b[0m\u001b[0;34m)\u001b[0m\u001b[0;34m\u001b[0m\u001b[0;34m\u001b[0m\u001b[0m\n\u001b[0;32m----> 6\u001b[0;31m \u001b[0mtestTildeI\u001b[0m   \u001b[0;34m=\u001b[0m \u001b[0;32mlambda\u001b[0m \u001b[0mk\u001b[0m\u001b[0;34m:\u001b[0m \u001b[0mFourierI\u001b[0m\u001b[0;34m(\u001b[0m\u001b[0mexample\u001b[0m\u001b[0;34m,\u001b[0m \u001b[0mk\u001b[0m\u001b[0;34m)\u001b[0m\u001b[0;34m\u001b[0m\u001b[0;34m\u001b[0m\u001b[0m\n\u001b[0m\u001b[1;32m      7\u001b[0m \u001b[0;34m\u001b[0m\u001b[0m\n\u001b[1;32m      8\u001b[0m \u001b[0;34m\u001b[0m\u001b[0m\n",
      "\u001b[0;32m/tmp/ipykernel_20108/2247510618.py\u001b[0m in \u001b[0;36mFourierI\u001b[0;34m(func, k)\u001b[0m\n\u001b[1;32m     25\u001b[0m     \u001b[0mim\u001b[0m   \u001b[0;34m=\u001b[0m \u001b[0;32mlambda\u001b[0m \u001b[0mx\u001b[0m\u001b[0;34m:\u001b[0m \u001b[0;34m-\u001b[0m\u001b[0msin\u001b[0m\u001b[0;34m(\u001b[0m\u001b[0mk\u001b[0m\u001b[0;34m*\u001b[0m\u001b[0mx\u001b[0m\u001b[0;34m)\u001b[0m \u001b[0;34m*\u001b[0m \u001b[0mfunc\u001b[0m\u001b[0;34m(\u001b[0m\u001b[0mx\u001b[0m\u001b[0;34m)\u001b[0m\u001b[0;34m\u001b[0m\u001b[0;34m\u001b[0m\u001b[0m\n\u001b[1;32m     26\u001b[0m \u001b[0;34m\u001b[0m\u001b[0m\n\u001b[0;32m---> 27\u001b[0;31m     \u001b[0;32mreturn\u001b[0m \u001b[0mtrapezium\u001b[0m\u001b[0;34m(\u001b[0m\u001b[0mim\u001b[0m\u001b[0;34m,\u001b[0m \u001b[0;34m(\u001b[0m\u001b[0;34m-\u001b[0m\u001b[0mxMax\u001b[0m\u001b[0;34m,\u001b[0m \u001b[0mxMax\u001b[0m\u001b[0;34m)\u001b[0m\u001b[0;34m,\u001b[0m \u001b[0mdx\u001b[0m\u001b[0;34m)\u001b[0m\u001b[0;34m\u001b[0m\u001b[0;34m\u001b[0m\u001b[0m\n\u001b[0m\u001b[1;32m     28\u001b[0m \u001b[0;34m\u001b[0m\u001b[0m\n\u001b[1;32m     29\u001b[0m \u001b[0;32mdef\u001b[0m \u001b[0mInverseFourierTransform\u001b[0m\u001b[0;34m(\u001b[0m\u001b[0mfunc\u001b[0m\u001b[0;34m,\u001b[0m \u001b[0mx\u001b[0m\u001b[0;34m)\u001b[0m\u001b[0;34m:\u001b[0m\u001b[0;34m\u001b[0m\u001b[0;34m\u001b[0m\u001b[0m\n",
      "\u001b[0;32m/tmp/ipykernel_20108/2506790557.py\u001b[0m in \u001b[0;36mtrapezium\u001b[0;34m(func, bounds, delta, display)\u001b[0m\n\u001b[1;32m     13\u001b[0m     \u001b[0;32melse\u001b[0m\u001b[0;34m:\u001b[0m\u001b[0;34m\u001b[0m\u001b[0;34m\u001b[0m\u001b[0m\n\u001b[1;32m     14\u001b[0m         \u001b[0;32mfor\u001b[0m \u001b[0mi\u001b[0m \u001b[0;32min\u001b[0m \u001b[0mrange\u001b[0m\u001b[0;34m(\u001b[0m\u001b[0;36m1\u001b[0m\u001b[0;34m,\u001b[0m \u001b[0mfloor\u001b[0m\u001b[0;34m(\u001b[0m\u001b[0msteps\u001b[0m\u001b[0;34m)\u001b[0m\u001b[0;34m)\u001b[0m\u001b[0;34m:\u001b[0m\u001b[0;34m\u001b[0m\u001b[0;34m\u001b[0m\u001b[0m\n\u001b[0;32m---> 15\u001b[0;31m             \u001b[0mresult\u001b[0m \u001b[0;34m+=\u001b[0m \u001b[0mdelta\u001b[0m \u001b[0;34m*\u001b[0m \u001b[0mfunc\u001b[0m\u001b[0;34m(\u001b[0m\u001b[0mbounds\u001b[0m\u001b[0;34m[\u001b[0m\u001b[0;36m0\u001b[0m\u001b[0;34m]\u001b[0m \u001b[0;34m+\u001b[0m \u001b[0;34m(\u001b[0m\u001b[0mdelta\u001b[0m \u001b[0;34m*\u001b[0m \u001b[0mi\u001b[0m\u001b[0;34m)\u001b[0m\u001b[0;34m)\u001b[0m\u001b[0;34m\u001b[0m\u001b[0;34m\u001b[0m\u001b[0m\n\u001b[0m\u001b[1;32m     16\u001b[0m \u001b[0;34m\u001b[0m\u001b[0m\n\u001b[1;32m     17\u001b[0m     \u001b[0;32mreturn\u001b[0m \u001b[0mresult\u001b[0m\u001b[0;34m\u001b[0m\u001b[0;34m\u001b[0m\u001b[0m\n",
      "\u001b[0;32m/tmp/ipykernel_20108/2247510618.py\u001b[0m in \u001b[0;36m<lambda>\u001b[0;34m(x)\u001b[0m\n\u001b[1;32m     23\u001b[0m \u001b[0;34m\u001b[0m\u001b[0m\n\u001b[1;32m     24\u001b[0m \u001b[0;32mdef\u001b[0m \u001b[0mFourierI\u001b[0m\u001b[0;34m(\u001b[0m\u001b[0mfunc\u001b[0m\u001b[0;34m,\u001b[0m \u001b[0mk\u001b[0m\u001b[0;34m)\u001b[0m\u001b[0;34m:\u001b[0m\u001b[0;34m\u001b[0m\u001b[0;34m\u001b[0m\u001b[0m\n\u001b[0;32m---> 25\u001b[0;31m     \u001b[0mim\u001b[0m   \u001b[0;34m=\u001b[0m \u001b[0;32mlambda\u001b[0m \u001b[0mx\u001b[0m\u001b[0;34m:\u001b[0m \u001b[0;34m-\u001b[0m\u001b[0msin\u001b[0m\u001b[0;34m(\u001b[0m\u001b[0mk\u001b[0m\u001b[0;34m*\u001b[0m\u001b[0mx\u001b[0m\u001b[0;34m)\u001b[0m \u001b[0;34m*\u001b[0m \u001b[0mfunc\u001b[0m\u001b[0;34m(\u001b[0m\u001b[0mx\u001b[0m\u001b[0;34m)\u001b[0m\u001b[0;34m\u001b[0m\u001b[0;34m\u001b[0m\u001b[0m\n\u001b[0m\u001b[1;32m     26\u001b[0m \u001b[0;34m\u001b[0m\u001b[0m\n\u001b[1;32m     27\u001b[0m     \u001b[0;32mreturn\u001b[0m \u001b[0mtrapezium\u001b[0m\u001b[0;34m(\u001b[0m\u001b[0mim\u001b[0m\u001b[0;34m,\u001b[0m \u001b[0;34m(\u001b[0m\u001b[0;34m-\u001b[0m\u001b[0mxMax\u001b[0m\u001b[0;34m,\u001b[0m \u001b[0mxMax\u001b[0m\u001b[0;34m)\u001b[0m\u001b[0;34m,\u001b[0m \u001b[0mdx\u001b[0m\u001b[0;34m)\u001b[0m\u001b[0;34m\u001b[0m\u001b[0;34m\u001b[0m\u001b[0m\n",
      "\u001b[0;31mKeyboardInterrupt\u001b[0m: "
     ]
    }
   ],
   "source": [
    "a = 5\n",
    "example      = lambda x: exp(-a * abs(x))\n",
    "exampleTilde = lambda k: (2 * a) / ((a ** 2) + k ** 2)\n",
    "\n",
    "testTildeR   = lambda k: FourierR(example, k)\n",
    "testTildeI   = lambda k: FourierI(example, k)\n",
    "\n",
    "\n",
    "for k in [0, 1, 5, 10, 50, 100]:\n",
    "    print(f'Fourier values: (k={k})')\n",
    "    true    = exampleTilde(k)\n",
    "    fourier = testTildeR(k) # we know im should be 0\n",
    "\n",
    "    print(f'{true} | {fourier} | {str(round(100 * (true - fourier) / true, 2))}%')\n",
    "\n",
    "    print(f'Inverted values: (x={k})')\n",
    "    true     = example(k)\n",
    "    inverted = InverseFourierTransform((testTildeR, testTildeI), k)\n",
    "\n",
    "    print(f'{true} | {inverted} | {str(round(100 * (true - inverted[0]) / true, 2))}%')\n",
    "\n",
    "    print(f'------------------------------')\n"
   ]
  }
 ],
 "metadata": {
  "interpreter": {
   "hash": "37cf087adc1b1c2f09a6106570ea78eaf858af9a346191ecf52be4eb137f3495"
  },
  "kernelspec": {
   "display_name": "Python 3.8.8 64-bit ('FluidDynamics': conda)",
   "language": "python",
   "name": "python3"
  },
  "language_info": {
   "codemirror_mode": {
    "name": "ipython",
    "version": 3
   },
   "file_extension": ".py",
   "mimetype": "text/x-python",
   "name": "python",
   "nbconvert_exporter": "python",
   "pygments_lexer": "ipython3",
   "version": "3.8.8"
  },
  "orig_nbformat": 4
 },
 "nbformat": 4,
 "nbformat_minor": 2
}
