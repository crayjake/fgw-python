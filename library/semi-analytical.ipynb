{
 "cells": [
  {
   "cell_type": "code",
   "execution_count": 1,
   "metadata": {},
   "outputs": [],
   "source": [
    "import numpy as np\n",
    "from matplotlib import pyplot as plt\n",
    "\n",
    "\n",
    "# width      = 1000 * 540 * 1.5 / 2\n",
    "# spacesteps = 1000\n",
    "\n",
    "# x = np.linspace(0, width, spacesteps)\n",
    "# dx = width / spacesteps"
   ]
  },
  {
   "cell_type": "code",
   "execution_count": 2,
   "metadata": {},
   "outputs": [],
   "source": [
    "from math import floor\n",
    "from tqdm import tqdm\n",
    "\n",
    "def trapezium(func, bounds, delta, display=False):\n",
    "    result = delta * (func(bounds[0]) + func(bounds[1])) / 2\n",
    "\n",
    "    steps = (bounds[1] - bounds[0]) / delta\n",
    "\n",
    "    if display:\n",
    "        for i in tqdm(range(1, floor(steps))):\n",
    "            result += delta * func(bounds[0] + (delta * i))\n",
    "\n",
    "    else:\n",
    "        for i in range(1, floor(steps)):\n",
    "            result += delta * func(bounds[0] + (delta * i))\n",
    "\n",
    "    return result\n",
    "    \n",
    "def simpson(func, bounds, delta):\n",
    "    result = delta * (func(bounds[0]) + func(bounds[1])) / 3\n",
    "\n",
    "    steps = (bounds[1] - bounds[0]) / delta\n",
    "    for i in range(1, floor(steps)):\n",
    "        add = 2 * delta * func(bounds[0] + (delta * i))\n",
    "\n",
    "        if i % 2 != 0:\n",
    "            add *= 2\n",
    "\n",
    "        result += add / 3\n",
    "\n",
    "    return result"
   ]
  },
  {
   "cell_type": "code",
   "execution_count": 3,
   "metadata": {},
   "outputs": [
    {
     "name": "stdout",
     "output_type": "stream",
     "text": [
      "333.33349999999996 vs 333.33333333333337\n"
     ]
    }
   ],
   "source": [
    "trap = trapezium(lambda x: x ** 2, (0, 10), 0.01)\n",
    "simp = simpson  (lambda x: x ** 2, (0, 10), 0.01)\n",
    "print(f'{trap} vs {simp}')"
   ]
  },
  {
   "cell_type": "code",
   "execution_count": 4,
   "metadata": {},
   "outputs": [],
   "source": [
    "from math import sqrt, pi, cos, sin\n",
    "from cmath import exp\n",
    "\n",
    "S = 3.6e-5\n",
    "L = 10000\n",
    "N = 0.01\n",
    "rho_s = 1\n",
    "D = 50000\n",
    "D_t = 10000\n",
    "h = 100000\n",
    "\n",
    "mode = 1\n",
    "\n",
    "# modal variables\n",
    "A_j = sqrt(2 / (rho_s * (N ** 2) * D))\n",
    "\n",
    "# wavespeed (squared)\n",
    "c2 = ((N * D) ** 2) / (((mode * pi) ** 2) + ((D ** 2)/(4 * (h ** 2)))) # wavespeed\n",
    "\n",
    "# calculating S_j = S0 * sigma\n",
    "if ((mode * D_t / D) - 1) == 0:\n",
    "    S_j = A_j * (rho_s / 2) * D_t\n",
    "else:\n",
    "    S_A = np.sin((np.pi) * ((mode * D_t / D) - 1)) / ((mode * D_t / D) - 1)\n",
    "    S_B = np.sin((np.pi) * ((mode * D_t / D) + 1)) / ((mode * D_t / D) + 1)\n",
    "    S_j = A_j * (rho_s / 2) * (D_t / np.pi) * (S_A - S_B)\n",
    "\n",
    "S_j = S_j * S\n",
    "\n",
    "\n",
    "def F(x):\n",
    "    return 1 / np.cosh(x / L) ** 2"
   ]
  },
  {
   "cell_type": "code",
   "execution_count": 41,
   "metadata": {},
   "outputs": [],
   "source": [
    "steps = 1000\n",
    "\n",
    "def FourierTransform(func, k):\n",
    "    xMax = 50 * L\n",
    "    dx = xMax / steps\n",
    "    # e^ix   = cos(x) + i*sin(x)\n",
    "    # e^-ikx = e^i(-kx) = cos(-kx) + i*sin(-kx) = cos(kx) - i*sin(kx)\n",
    "\n",
    "    function = lambda x: exp(k * x * -1j) * func(x) \n",
    "\n",
    "    return trapezium(function, (-xMax, xMax), dx)\n",
    "\n",
    "def InverseTest(func, x):\n",
    "    kMax = 30 / L\n",
    "    dk = kMax / steps\n",
    "\n",
    "    function = lambda k: exp(k * x * 1j) * func(k)\n",
    "\n",
    "    return trapezium(function, (-kMax, kMax), dk, True) / (2 * pi) \n"
   ]
  },
  {
   "cell_type": "code",
   "execution_count": null,
   "metadata": {},
   "outputs": [],
   "source": [
    "for x in [t * 1000 for t in [300, 405]]:\n",
    "    true = F(x)\n",
    "\n",
    "    #fR = lambda k: FourierR(F, k)\n",
    "    #fI = lambda k: FourierI(F, k)\n",
    "\n",
    "    #fourier = InverseFourierTransform((fR, fI), x)\n",
    "\n",
    "    f = lambda k: FourierTransform(F, k)\n",
    "    fourier = InverseTest(f, x)\n",
    "\n",
    "    print(f'x={x}: {true} | {fourier} | {str(np.round(100 * (true - fourier) / true, 2))}%')"
   ]
  },
  {
   "cell_type": "code",
   "execution_count": null,
   "metadata": {},
   "outputs": [],
   "source": [
    "a = 5\n",
    "example      = lambda x: exp(-a * abs(x))\n",
    "exampleTilde = lambda k: (2 * a) / ((a ** 2) + k ** 2)\n",
    "\n",
    "testTildeR   = lambda k: FourierR(example, k)\n",
    "testTildeI   = lambda k: FourierI(example, k)\n",
    "\n",
    "\n",
    "for k in [0, 1, 5, 10, 50, 100]:\n",
    "    print(f'Fourier values: (k={k})')\n",
    "    true    = exampleTilde(k)\n",
    "    fourier = testTildeR(k) # we know im should be 0\n",
    "\n",
    "    print(f'{true} | {fourier} | {str(round(100 * (true - fourier) / true, 2))}%')\n",
    "\n",
    "    print(f'Inverted values: (x={k})')\n",
    "    true     = example(k)\n",
    "    inverted = InverseFourierTransform((testTildeR, testTildeI), k)\n",
    "\n",
    "    print(f'{true} | {inverted} | {str(round(100 * (true - inverted[0]) / true, 2))}%')\n",
    "\n",
    "    print(f'------------------------------')\n"
   ]
  }
 ],
 "metadata": {
  "interpreter": {
   "hash": "37cf087adc1b1c2f09a6106570ea78eaf858af9a346191ecf52be4eb137f3495"
  },
  "kernelspec": {
   "display_name": "Python 3.8.8 64-bit ('FluidDynamics': conda)",
   "language": "python",
   "name": "python3"
  },
  "language_info": {
   "codemirror_mode": {
    "name": "ipython",
    "version": 3
   },
   "file_extension": ".py",
   "mimetype": "text/x-python",
   "name": "python",
   "nbconvert_exporter": "python",
   "pygments_lexer": "ipython3",
   "version": "3.8.8"
  },
  "orig_nbformat": 4
 },
 "nbformat": 4,
 "nbformat_minor": 2
}
