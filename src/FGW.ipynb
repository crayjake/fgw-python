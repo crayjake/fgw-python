{
  "cells": [
    {
      "cell_type": "markdown",
      "metadata": {
        "id": "3f9OyEcBDmVk"
      },
      "source": [
        "# Forced Gravity Waves\n",
        "[![Open In Colab](https://colab.research.google.com/assets/colab-badge.svg)](https://colab.research.google.com/github/crayjake/fgw-python/blob/master/src/FGW.ipynb)"
      ]
    },
    {
      "cell_type": "markdown",
      "source": [
        "## IF COLAB RUN THE CELL BELOW"
      ],
      "metadata": {
        "id": "73IsifcZEV7B"
      }
    },
    {
      "cell_type": "code",
      "source": [
        "from google.colab import drive\n",
        "drive.mount('/content/drive')\n",
        "\n",
        "\n",
        "%cd /content/drive/My Drive/fgw-python/content\n",
        "#! git clone 'https://github.com/crayjake/fgw-python.git'\n",
        "! git pull\n",
        "\n",
        "import sys\n",
        "sys.path.insert(0,'/content/drive/My Drive/fgw-python/content/src')"
      ],
      "metadata": {
        "id": "jCYknP6JESOx",
        "outputId": "c7a18d07-06c9-419a-98d0-ecf9e65219d2",
        "colab": {
          "base_uri": "https://localhost:8080/"
        }
      },
      "execution_count": 3,
      "outputs": [
        {
          "output_type": "stream",
          "name": "stdout",
          "text": [
            "Mounted at /content/drive\n",
            "/content/drive/My Drive/fgw-python/content\n",
            "remote: Enumerating objects: 21, done.\u001b[K\n",
            "remote: Counting objects: 100% (21/21), done.\u001b[K\n",
            "remote: Compressing objects: 100% (13/13), done.\u001b[K\n",
            "remote: Total 16 (delta 9), reused 6 (delta 3), pack-reused 0\u001b[K\n",
            "Unpacking objects: 100% (16/16), done.\n",
            "From https://github.com/crayjake/fgw-python\n",
            "   5126ef0..b2fc90e  main       -> origin/main\n",
            "Updating 5126ef0..b2fc90e\n",
            "Fast-forward\n",
            " README.md      |   2 \u001b[32m+\u001b[m\n",
            " src/FGW.ipynb  | 309 \u001b[32m+++++++++++++++++++++++++++++++\u001b[m\u001b[31m--------------------------\u001b[m\n",
            " src/animate.py |   4 \u001b[32m+\u001b[m\u001b[31m-\u001b[m\n",
            " 3 files changed, 170 insertions(+), 145 deletions(-)\n"
          ]
        }
      ]
    },
    {
      "cell_type": "code",
      "execution_count": 4,
      "metadata": {
        "id": "4YHFRFGaDmVu"
      },
      "outputs": [],
      "source": [
        "# imports\n",
        "import numpy as np\n",
        "\n",
        "from generator import evaluate, simulate, convert, EulerStep, CrankNicolson, CrankNicolsonDeep\n",
        "from data import Meta"
      ]
    },
    {
      "cell_type": "code",
      "execution_count": null,
      "metadata": {
        "colab": {
          "base_uri": "https://localhost:8080/"
        },
        "id": "eAOwm-I7DmV1",
        "outputId": "fa55225d-2600-4b06-aa01-a6b421f5f72e"
      },
      "outputs": [
        {
          "output_type": "stream",
          "name": "stdout",
          "text": [
            "Generating metadata:\n",
            "Setting up space...\n",
            "Creating matrices...\n"
          ]
        }
      ],
      "source": [
        "# modes\n",
        "js = np.array(list(range(1, 50)))\n",
        "# heating\n",
        "Qs = np.array([1] * len(js))\n",
        "# heat time for each mode (only implemented in sim - large values mimic constant heating)\n",
        "Ts = np.array([1e10] * len(js))\n",
        "\n",
        "# f = 2 * 7.292 * (1e-5)\n",
        "meta = Meta(Qs=Qs, js=js, Ts=Ts, time=7200, dt=60, L=10000, D=50000, width=120, N=0.01, saveEvery=10)"
      ]
    },
    {
      "cell_type": "code",
      "execution_count": null,
      "metadata": {
        "id": "mDxR9QPHDmV-"
      },
      "outputs": [],
      "source": [
        "# simulate and evaluate the data ( no z dep. )\n",
        "simulationData = simulate(meta, CrankNicolsonDeep)\n",
        "#evaluationData = evaluate(meta)"
      ]
    },
    {
      "cell_type": "code",
      "execution_count": null,
      "metadata": {
        "id": "go9fXxiSDmWD"
      },
      "outputs": [],
      "source": [
        "# convert ( to get z dep. )\n",
        "# this causes big data so you can provide a memory limit\n",
        "meta.maxGB = 10\n",
        "# NOTE: this changes <evalutationData/simulationData>.meta.maxGB\n",
        "# ( as meta was passed as a ref )\n",
        "\n",
        "sim1, contToken = convert(simulationData)"
      ]
    },
    {
      "cell_type": "code",
      "execution_count": null,
      "metadata": {
        "id": "d5niTN9NDmWJ"
      },
      "outputs": [],
      "source": [
        "from animate import animator, LineType\n",
        "\n",
        "anim = animator()\n",
        "time = 4\n",
        "\n",
        "#anim.display_line(data=simulationData, time=time, lineType = LineType.U, prefix='U')\n",
        "# anim.display_line(data=simulationData, time=time, lineType = LineType.V, prefix='V')\n",
        "#anim.display_line(data=simulationData, time=time, lineType = LineType.W, prefix='W')\n",
        "#anim.display_line(data=simulationData, time=time, lineType = LineType.B, prefix='B')\n",
        "#anim.display_line(data=simulationData, time=time, lineType = LineType.P, prefix='P')\n",
        "\n",
        "#anim.display(data=sim1, time=time, prefix='Sim1 (last) ')\n",
        "\n",
        "anim.images(sim1, 'test', True)"
      ]
    }
  ],
  "metadata": {
    "interpreter": {
      "hash": "37cf087adc1b1c2f09a6106570ea78eaf858af9a346191ecf52be4eb137f3495"
    },
    "kernelspec": {
      "display_name": "Python 3.8.8 64-bit ('FluidDynamics': conda)",
      "language": "python",
      "name": "python3"
    },
    "language_info": {
      "codemirror_mode": {
        "name": "ipython",
        "version": 3
      },
      "file_extension": ".py",
      "mimetype": "text/x-python",
      "name": "python",
      "nbconvert_exporter": "python",
      "pygments_lexer": "ipython3",
      "version": "3.8.8"
    },
    "orig_nbformat": 4,
    "colab": {
      "name": "FGW.ipynb",
      "provenance": []
    }
  },
  "nbformat": 4,
  "nbformat_minor": 0
}