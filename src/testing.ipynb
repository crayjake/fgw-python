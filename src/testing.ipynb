{
 "cells": [
  {
   "cell_type": "markdown",
   "metadata": {},
   "source": [
    "# Simulation and Evaluation"
   ]
  },
  {
   "cell_type": "code",
   "execution_count": 61,
   "metadata": {},
   "outputs": [],
   "source": [
    "import numpy as np\n",
    "import math\n",
    "\n",
    "js = np.array([5])\n",
    "D_t = 10000\n",
    "D = 50000\n",
    "h = 25000\n",
    "N = 0.02\n",
    "rho_s = 1\n",
    "\n",
    "Z = np.linspace(0, D, 100)\n",
    "\n",
    "A = math.sqrt(2 / (rho_s * (N ** 2) * D))\n",
    "\n",
    "def phi(z, j):\n",
    "    return np.exp(z / (2 * h)) * np.sin((j * np.pi * z) / D) * A\n",
    "\n",
    "def realZ(z):\n",
    "    return np.sin(np.pi * z / D_t) * np.exp(z / (2 * h)) * np.less(z, D_t) / A"
   ]
  },
  {
   "cell_type": "code",
   "execution_count": 62,
   "metadata": {},
   "outputs": [
    {
     "name": "stdout",
     "output_type": "stream",
     "text": [
      "if\n"
     ]
    }
   ],
   "source": [
    "S = np.empty(Z.shape)\n",
    "\n",
    "for i in range(len(js)):\n",
    "    j = js[i]\n",
    "\n",
    "    if ((j * D_t / D) - 1) == 0:\n",
    "        S_n = (rho_s / 2) * A * (D_t / np.pi)\n",
    "        print('if')\n",
    "    else:\n",
    "        A = np.sin((np.pi) * ((j * D_t / D) - 1)) / ((j * D_t / D) - 1)\n",
    "        B = np.sin((np.pi) * ((j * D_t / D) + 1)) / ((j * D_t / D) + 1)\n",
    "        S_n = A * (rho_s / 2) * (D_t / np.pi) * (A - B)\n",
    "        print(f'else {j}')\n",
    "\n",
    "    S += (N ** 2) * S_n * phi(Z, j)"
   ]
  },
  {
   "cell_type": "code",
   "execution_count": 63,
   "metadata": {},
   "outputs": [
    {
     "data": {
      "image/png": "[encoded data removed]",
      "text/plain": [
       "<Figure size 432x288 with 1 Axes>"
      ]
     },
     "metadata": {
      "needs_background": "light"
     },
     "output_type": "display_data"
    }
   ],
   "source": [
    "from matplotlib import pyplot as plt\n",
    "\n",
    "fig, ax = plt.subplots()\n",
    "ax.plot(Z, S, f'k--')\n",
    "ax.plot(Z, realZ(Z), f'r:')\n",
    "\n",
    "plt.title(f'Heating Fourier n={len(js)}')\n",
    "plt.show()"
   ]
  },
  {
   "cell_type": "code",
   "execution_count": 64,
   "metadata": {},
   "outputs": [
    {
     "name": "stdout",
     "output_type": "stream",
     "text": [
      "0.5914632069345345\n"
     ]
    }
   ],
   "source": [
    "print(np.max(phi(Z, 4)))"
   ]
  },
  {
   "cell_type": "code",
   "execution_count": null,
   "metadata": {},
   "outputs": [],
   "source": []
  }
 ],
 "metadata": {
  "interpreter": {
   "hash": "37cf087adc1b1c2f09a6106570ea78eaf858af9a346191ecf52be4eb137f3495"
  },
  "kernelspec": {
   "display_name": "Python 3.8.8 64-bit ('FluidDynamics': conda)",
   "language": "python",
   "name": "python3"
  },
  "language_info": {
   "codemirror_mode": {
    "name": "ipython",
    "version": 3
   },
   "file_extension": ".py",
   "mimetype": "text/x-python",
   "name": "python",
   "nbconvert_exporter": "python",
   "pygments_lexer": "ipython3",
   "version": "3.8.8"
  },
  "orig_nbformat": 4
 },
 "nbformat": 4,
 "nbformat_minor": 2
}
