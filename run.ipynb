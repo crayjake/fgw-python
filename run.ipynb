{
 "cells": [
  {
   "cell_type": "code",
   "execution_count": 3,
   "metadata": {},
   "outputs": [
    {
     "name": "stdout",
     "output_type": "stream",
     "text": [
      "generating initial data\n",
      "initial data: [<fgw.structures.DefaultData object at 0x7f15ec245190>]\n"
     ]
    }
   ],
   "source": [
    "from fgw.simulations import Deep\n",
    "\n",
    "sim = Deep(\n",
    "    width = 10,\n",
    "    depth = 50,\n",
    "    horizontalResolution = 10,\n",
    "    verticalResolution = 10,\n",
    "    time = 12 * 60 * 60,\n",
    "    dt = 5,\n",
    "    latitude = 1,\n",
    "    spongePercentage = 2 / 5,\n",
    "    damping = 10,\n",
    "    S0 = 3.6 * 1e-5,\n",
    "    N = 0.01,\n",
    "    h = 100,\n",
    "    modes = list(range(1, 51)),\n",
    "    heatingScaleWidth = 10\n",
    ")\n",
    "\n",
    "data   = sim.Simulate()\n",
    "data2D = sim.Convert( data )\n",
    "\n",
    "sim.Image  ( data2D )\n",
    "sim.Animate( data2D )"
   ]
  },
  {
   "cell_type": "code",
   "execution_count": null,
   "metadata": {},
   "outputs": [],
   "source": []
  }
 ],
 "metadata": {
  "interpreter": {
   "hash": "37cf087adc1b1c2f09a6106570ea78eaf858af9a346191ecf52be4eb137f3495"
  },
  "kernelspec": {
   "display_name": "Python 3.8.8 ('FluidDynamics')",
   "language": "python",
   "name": "python3"
  },
  "language_info": {
   "codemirror_mode": {
    "name": "ipython",
    "version": 3
   },
   "file_extension": ".py",
   "mimetype": "text/x-python",
   "name": "python",
   "nbconvert_exporter": "python",
   "pygments_lexer": "ipython3",
   "version": "3.8.8"
  },
  "orig_nbformat": 4
 },
 "nbformat": 4,
 "nbformat_minor": 2
}
