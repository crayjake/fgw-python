{
 "cells": [
  {
   "cell_type": "code",
   "execution_count": 1,
   "metadata": {},
   "outputs": [],
   "source": [
    "from fgw.simulations import Deep\n",
    "\n",
    "sim = Deep(1, 1, 1, 1, 1, 1, 1, 1, 1, 1, 1)\n",
    "\n",
    "data   = sim.Simulate()\n",
    "data2D = sim.Convert()\n",
    "\n",
    "sim.Image  ( data2D )\n",
    "sim.Animate( data2D )"
   ]
  }
 ],
 "metadata": {
  "interpreter": {
   "hash": "37cf087adc1b1c2f09a6106570ea78eaf858af9a346191ecf52be4eb137f3495"
  },
  "kernelspec": {
   "display_name": "Python 3.8.8 ('FluidDynamics')",
   "language": "python",
   "name": "python3"
  },
  "language_info": {
   "codemirror_mode": {
    "name": "ipython",
    "version": 3
   },
   "file_extension": ".py",
   "mimetype": "text/x-python",
   "name": "python",
   "nbconvert_exporter": "python",
   "pygments_lexer": "ipython3",
   "version": "3.8.8"
  },
  "orig_nbformat": 4
 },
 "nbformat": 4,
 "nbformat_minor": 2
}
